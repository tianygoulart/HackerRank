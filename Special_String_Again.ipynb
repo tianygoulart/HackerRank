{
  "nbformat": 4,
  "nbformat_minor": 0,
  "metadata": {
    "colab": {
      "name": "Special String Again.ipynb",
      "provenance": [],
      "authorship_tag": "ABX9TyMEezPPeJCcMQ2E2mMr42BF",
      "include_colab_link": true
    },
    "kernelspec": {
      "name": "python3",
      "display_name": "Python 3"
    },
    "language_info": {
      "name": "python"
    }
  },
  "cells": [
    {
      "cell_type": "markdown",
      "metadata": {
        "id": "view-in-github",
        "colab_type": "text"
      },
      "source": [
        "<a href=\"https://colab.research.google.com/github/tianygoulart/HackerRank/blob/main/Special_String_Again.ipynb\" target=\"_parent\"><img src=\"https://colab.research.google.com/assets/colab-badge.svg\" alt=\"Open In Colab\"/></a>"
      ]
    },
    {
      "cell_type": "code",
      "execution_count": null,
      "metadata": {
        "id": "hitS7S3sgaJn"
      },
      "outputs": [],
      "source": [
        "#!/bin/python\n",
        "\n",
        "import math\n",
        "import os\n",
        "import random\n",
        "import re\n",
        "import sys\n",
        "\n",
        "# Complete the substrCount function below.\n",
        "def substrCount(n, s):\n",
        "    sq=[]\n",
        "    c=s[0]\n",
        "    count=0\n",
        "    res=0\n",
        "    for i in s:\n",
        "        if i!=c:\n",
        "            sq.append((c,count))\n",
        "            c=i\n",
        "            count=1\n",
        "        else:\n",
        "            count+=1\n",
        "    sq.append((c,count))\n",
        "    print(sq)\n",
        "    for i in sq:\n",
        "        res+=(i[1]*(1+i[1]))//2\n",
        "    for j in range(len(sq)-2):\n",
        "        if sq[j][0]==sq[j+2][0] and sq[j+1][1]==1:\n",
        "            res+=min(sq[j][1], sq[j+2][1])\n",
        "    return res \n",
        "        \n",
        "\n",
        "if __name__ == '__main__':\n",
        "    fptr = open(os.environ['OUTPUT_PATH'], 'w')\n",
        "\n",
        "    n = int(raw_input())\n",
        "\n",
        "    s = raw_input()\n",
        "\n",
        "    result = substrCount(n, s)\n",
        "\n",
        "    fptr.write(str(result) + '\\n')\n",
        "\n",
        "    fptr.close()\n"
      ]
    }
  ]
}