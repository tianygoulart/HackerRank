{
  "nbformat": 4,
  "nbformat_minor": 0,
  "metadata": {
    "colab": {
      "name": "Saltando as Nuvens.ipynb",
      "provenance": [],
      "authorship_tag": "ABX9TyOA0xoUAwan6FLukeihDulP",
      "include_colab_link": true
    },
    "kernelspec": {
      "name": "python3",
      "display_name": "Python 3"
    },
    "language_info": {
      "name": "python"
    }
  },
  "cells": [
    {
      "cell_type": "markdown",
      "metadata": {
        "id": "view-in-github",
        "colab_type": "text"
      },
      "source": [
        "<a href=\"https://colab.research.google.com/github/tianygoulart/HackerRank/blob/main/Saltando_as_Nuvens.ipynb\" target=\"_parent\"><img src=\"https://colab.research.google.com/assets/colab-badge.svg\" alt=\"Open In Colab\"/></a>"
      ]
    },
    {
      "cell_type": "code",
      "execution_count": null,
      "metadata": {
        "id": "rtupUVAURXLn"
      },
      "outputs": [],
      "source": [
        "#!/bin/python\n",
        "\n",
        "import math\n",
        "import os\n",
        "import random\n",
        "import re\n",
        "import sys\n",
        "\n",
        "#\n",
        "# Complete the 'jumpingOnClouds' function below.\n",
        "#\n",
        "# The function is expected to return an INTEGER.\n",
        "# The function accepts INTEGER_ARRAY c as parameter.\n",
        "#\n",
        "\n",
        "def jumpingOnClouds(c):\n",
        "    # Write your code here\n",
        "    n=len(c)\n",
        "    result=0\n",
        "    i=0\n",
        "    while (i<n-1):\n",
        "        if ((i+2<n) and c[i+2]==0):\n",
        "            i+=2\n",
        "        else:\n",
        "            i+=1\n",
        "        result+=1\n",
        "    return result\n",
        "if __name__ == '__main__':\n",
        "    fptr = open(os.environ['OUTPUT_PATH'], 'w')\n",
        "\n",
        "    n = int(raw_input().strip())\n",
        "\n",
        "    c = map(int, raw_input().rstrip().split())\n",
        "\n",
        "    result = jumpingOnClouds(c)\n",
        "\n",
        "    fptr.write(str(result) + '\\n')\n",
        "\n",
        "    fptr.close()\n"
      ]
    }
  ]
}