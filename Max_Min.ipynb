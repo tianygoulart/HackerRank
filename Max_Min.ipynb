{
  "nbformat": 4,
  "nbformat_minor": 0,
  "metadata": {
    "colab": {
      "name": "Max Min.ipynb",
      "provenance": [],
      "authorship_tag": "ABX9TyO3T92tR/EeK3H4lsuS6gHQ",
      "include_colab_link": true
    },
    "kernelspec": {
      "name": "python3",
      "display_name": "Python 3"
    },
    "language_info": {
      "name": "python"
    }
  },
  "cells": [
    {
      "cell_type": "markdown",
      "metadata": {
        "id": "view-in-github",
        "colab_type": "text"
      },
      "source": [
        "<a href=\"https://colab.research.google.com/github/tianygoulart/HackerRank/blob/main/Max_Min.ipynb\" target=\"_parent\"><img src=\"https://colab.research.google.com/assets/colab-badge.svg\" alt=\"Open In Colab\"/></a>"
      ]
    },
    {
      "cell_type": "code",
      "execution_count": null,
      "metadata": {
        "id": "84PQ4xhP_VyE"
      },
      "outputs": [],
      "source": [
        "#!/bin/python\n",
        "\n",
        "import math\n",
        "import os\n",
        "import random\n",
        "import re\n",
        "import sys\n",
        "\n",
        "#\n",
        "# Complete the 'maxMin' function below.\n",
        "#\n",
        "# The function is expected to return an INTEGER.\n",
        "# The function accepts following parameters:\n",
        "#  1. INTEGER k\n",
        "#  2. INTEGER_ARRAY arr\n",
        "#\n",
        "\n",
        "def maxMin(k, arr):\n",
        "    # Write your code here\n",
        "    k-=1\n",
        "    arr.sort()\n",
        "    return min(arr[i+k]-arr[i]for i in range(len(arr)-k))\n",
        "\n",
        "if __name__ == '__main__':\n",
        "    fptr = open(os.environ['OUTPUT_PATH'], 'w')\n",
        "\n",
        "    n = int(raw_input().strip())\n",
        "\n",
        "    k = int(raw_input().strip())\n",
        "\n",
        "    arr = []\n",
        "\n",
        "    for _ in xrange(n):\n",
        "        arr_item = int(raw_input().strip())\n",
        "        arr.append(arr_item)\n",
        "\n",
        "    result = maxMin(k, arr)\n",
        "\n",
        "    fptr.write(str(result) + '\\n')\n",
        "\n",
        "    fptr.close()"
      ]
    }
  ]
}