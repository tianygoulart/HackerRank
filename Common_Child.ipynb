{
  "nbformat": 4,
  "nbformat_minor": 0,
  "metadata": {
    "colab": {
      "name": "Common Child.ipynb",
      "provenance": [],
      "authorship_tag": "ABX9TyOpGLz1HY9zEhu+AFM4Y78G",
      "include_colab_link": true
    },
    "kernelspec": {
      "name": "python3",
      "display_name": "Python 3"
    },
    "language_info": {
      "name": "python"
    }
  },
  "cells": [
    {
      "cell_type": "markdown",
      "metadata": {
        "id": "view-in-github",
        "colab_type": "text"
      },
      "source": [
        "<a href=\"https://colab.research.google.com/github/tianygoulart/HackerRank/blob/main/Common_Child.ipynb\" target=\"_parent\"><img src=\"https://colab.research.google.com/assets/colab-badge.svg\" alt=\"Open In Colab\"/></a>"
      ]
    },
    {
      "cell_type": "code",
      "execution_count": null,
      "metadata": {
        "id": "p0fJepNyb_gy"
      },
      "outputs": [],
      "source": [
        "#!/bin/python\n",
        "\n",
        "import math\n",
        "import os\n",
        "import random\n",
        "import re\n",
        "import sys\n",
        "\n",
        "#\n",
        "# Complete the 'commonChild' function below.\n",
        "#\n",
        "# The function is expected to return an INTEGER.\n",
        "# The function accepts following parameters:\n",
        "#  1. STRING s1\n",
        "#  2. STRING s2\n",
        "#\n",
        "\n",
        "def commonChild(s1, s2):\n",
        "    # Write your code here\n",
        "    x=len(s1)\n",
        "    y=len(s2)\n",
        "    z=[[0]*(x+1) for k in range(y+1)]\n",
        "    for i, c1 in enumerate(s1):\n",
        "        for j, c2 in enumerate(s2):\n",
        "             if c1==c2:\n",
        "                  z[i][j]=z[i-1][j-1]+1\n",
        "             else:\n",
        "                z[i][j]=max(z[i][j-1], z[i-1][j])\n",
        "    return z[y-1][x-1]\n",
        "\n",
        "if __name__ == '__main__':\n",
        "    fptr = open(os.environ['OUTPUT_PATH'], 'w')\n",
        "\n",
        "    s1 = raw_input()\n",
        "\n",
        "    s2 = raw_input()\n",
        "    \n",
        "  \n",
        "    res = commonChild(s1, s2)\n",
        "\n",
        "    fptr.write(str(res) + '\\n')\n",
        "\n",
        "    fptr.close()\n"
      ]
    }
  ]
}