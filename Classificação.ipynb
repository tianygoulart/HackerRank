{
  "nbformat": 4,
  "nbformat_minor": 0,
  "metadata": {
    "colab": {
      "name": "Classificação.ipynb",
      "provenance": [],
      "authorship_tag": "ABX9TyPyMlUnHmd1QScQclMa99nZ",
      "include_colab_link": true
    },
    "kernelspec": {
      "name": "python3",
      "display_name": "Python 3"
    },
    "language_info": {
      "name": "python"
    }
  },
  "cells": [
    {
      "cell_type": "markdown",
      "metadata": {
        "id": "view-in-github",
        "colab_type": "text"
      },
      "source": [
        "<a href=\"https://colab.research.google.com/github/tianygoulart/HackerRank/blob/main/Classifica%C3%A7%C3%A3o.ipynb\" target=\"_parent\"><img src=\"https://colab.research.google.com/assets/colab-badge.svg\" alt=\"Open In Colab\"/></a>"
      ]
    },
    {
      "cell_type": "code",
      "execution_count": null,
      "metadata": {
        "id": "8up7eqTVC5jV"
      },
      "outputs": [],
      "source": [
        "from functools import cmp_to_key\n",
        "class Player:\n",
        "    def __init__(self, name, score):\n",
        "        self.name = name\n",
        "        self.score = score         \n",
        "    def comparator(a, b):\n",
        "        if a.score<b.score:\n",
        "            return 1\n",
        "        elif a.score==b.score:\n",
        "            if a.name>b.name:\n",
        "                return 1\n",
        "            else:\n",
        "                return -1\n",
        "        else:\n",
        "            return -1\n",
        "        \n",
        "\n",
        "n = int(raw_input())\n",
        "data = []\n",
        "for i in range(n):\n",
        "    name, score = raw_input().split()\n",
        "    score = int(score)\n",
        "    player = Player(name, score)\n",
        "    data.append(player)\n",
        "    \n",
        "data = sorted(data, cmp=Player.comparator)\n",
        "for i in data:\n",
        "    print i.name, i.score"
      ]
    }
  ]
}