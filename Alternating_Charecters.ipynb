{
  "nbformat": 4,
  "nbformat_minor": 0,
  "metadata": {
    "colab": {
      "name": "Alternating Charecters.ipynb",
      "provenance": [],
      "authorship_tag": "ABX9TyMAtSM8HfryizCA4WvawiPu",
      "include_colab_link": true
    },
    "kernelspec": {
      "name": "python3",
      "display_name": "Python 3"
    },
    "language_info": {
      "name": "python"
    }
  },
  "cells": [
    {
      "cell_type": "markdown",
      "metadata": {
        "id": "view-in-github",
        "colab_type": "text"
      },
      "source": [
        "<a href=\"https://colab.research.google.com/github/tianygoulart/HackerRank/blob/main/Alternating_Charecters.ipynb\" target=\"_parent\"><img src=\"https://colab.research.google.com/assets/colab-badge.svg\" alt=\"Open In Colab\"/></a>"
      ]
    },
    {
      "cell_type": "code",
      "execution_count": null,
      "metadata": {
        "id": "KzZ7bNkGEatP"
      },
      "outputs": [],
      "source": [
        "#!/bin/python\n",
        "\n",
        "import math\n",
        "import os\n",
        "import random\n",
        "import re\n",
        "import sys\n",
        "\n",
        "#\n",
        "# Complete the 'alternatingCharacters' function below.\n",
        "#\n",
        "# The function is expected to return an INTEGER.\n",
        "# The function accepts STRING s as parameter.\n",
        "#\n",
        "\n",
        "def alternatingCharacters(s):\n",
        "    # Write your code here\n",
        "    for j in range(q):\n",
        "        count=0 \n",
        "        for i in range(1, len(s)):\n",
        "             if s[i]==s[i-1]:\n",
        "                 count+=1\n",
        "    return count\n",
        "\n",
        "if __name__ == '__main__':\n",
        "    fptr = open(os.environ['OUTPUT_PATH'], 'w')\n",
        "\n",
        "    q = int(raw_input().strip())\n",
        "\n",
        "    for q_itr in xrange(q):\n",
        "        s = raw_input()\n",
        "\n",
        "        result = alternatingCharacters(s)\n",
        "\n",
        "        fptr.write(str(result) + '\\n')\n",
        "\n",
        "    fptr.close()\n"
      ]
    }
  ]
}