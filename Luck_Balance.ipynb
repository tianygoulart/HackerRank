{
  "nbformat": 4,
  "nbformat_minor": 0,
  "metadata": {
    "colab": {
      "name": "Luck Balance.ipynb",
      "provenance": [],
      "authorship_tag": "ABX9TyM9ZodBofQC64NEeKNrw+zx",
      "include_colab_link": true
    },
    "kernelspec": {
      "name": "python3",
      "display_name": "Python 3"
    },
    "language_info": {
      "name": "python"
    }
  },
  "cells": [
    {
      "cell_type": "markdown",
      "metadata": {
        "id": "view-in-github",
        "colab_type": "text"
      },
      "source": [
        "<a href=\"https://colab.research.google.com/github/tianygoulart/HackerRank/blob/main/Luck_Balance.ipynb\" target=\"_parent\"><img src=\"https://colab.research.google.com/assets/colab-badge.svg\" alt=\"Open In Colab\"/></a>"
      ]
    },
    {
      "cell_type": "code",
      "execution_count": null,
      "metadata": {
        "id": "tkbHONk3ht2V"
      },
      "outputs": [],
      "source": [
        "#!/bin/python\n",
        "\n",
        "import math\n",
        "import os\n",
        "import random\n",
        "import re\n",
        "import sys\n",
        "\n",
        "#\n",
        "# Complete the 'luckBalance' function below.\n",
        "#\n",
        "# The function is expected to return an INTEGER.\n",
        "# The function accepts following parameters:\n",
        "#  1. INTEGER k\n",
        "#  2. 2D_INTEGER_ARRAY contests\n",
        "#\n",
        "\n",
        "def luckBalance(k, contests):\n",
        "    # Write your code here\n",
        "    luck=0\n",
        "    list=[] \n",
        "    for i in contests:\n",
        "        if i[1]==1:\n",
        "            list.append(i[0])        \n",
        "        else: \n",
        "            luck+=i[0]\n",
        "    list.sort(reverse=True)\n",
        "    luck+=sum(list[:min(k,len(list))])\n",
        "    luck-=sum(list[k:])\n",
        "    return luck\n",
        "\n",
        "\n",
        "if __name__ == '__main__':\n",
        "    fptr = open(os.environ['OUTPUT_PATH'], 'w')\n",
        "\n",
        "    first_multiple_input = raw_input().rstrip().split()\n",
        "\n",
        "    n = (int(first_multiple_input[0]))\n",
        "\n",
        "    k = (int(first_multiple_input[1]))\n",
        "\n",
        "    contests = []\n",
        "\n",
        "    for _ in xrange(n):\n",
        "        contests.append(map(int, raw_input().rstrip().split()))\n",
        "\n",
        "    result = luckBalance(k, contests)\n",
        "\n",
        "    fptr.write(str(result) + '\\n')\n",
        "\n",
        "    fptr.close()\n"
      ]
    }
  ]
}