{
  "nbformat": 4,
  "nbformat_minor": 0,
  "metadata": {
    "colab": {
      "name": "Reverse Shuffle Merge.ipynb",
      "provenance": [],
      "authorship_tag": "ABX9TyNsCLUa0QEOKUlfO+ORAaeD",
      "include_colab_link": true
    },
    "kernelspec": {
      "name": "python3",
      "display_name": "Python 3"
    },
    "language_info": {
      "name": "python"
    }
  },
  "cells": [
    {
      "cell_type": "markdown",
      "metadata": {
        "id": "view-in-github",
        "colab_type": "text"
      },
      "source": [
        "<a href=\"https://colab.research.google.com/github/tianygoulart/HackerRank/blob/main/Reverse_Shuffle_Merge.ipynb\" target=\"_parent\"><img src=\"https://colab.research.google.com/assets/colab-badge.svg\" alt=\"Open In Colab\"/></a>"
      ]
    },
    {
      "cell_type": "code",
      "execution_count": null,
      "metadata": {
        "id": "qotR0Pcjm1Se"
      },
      "outputs": [],
      "source": [
        "\n",
        "import math\n",
        "import os\n",
        "import random\n",
        "import re\n",
        "import sys\n",
        "\n",
        "#\n",
        "# Complete the 'reverseShuffleMerge' function below.\n",
        "#\n",
        "# The function is expected to return a STRING.\n",
        "# The function accepts STRING s as parameter.\n",
        "#\n",
        "from collections import Counter\n",
        "def reverseShuffleMerge(s):\n",
        "    # Write your code here\n",
        "    s = list(reversed(s))\n",
        "    remaining_dict,required_dict,added_dict = {},{},{}\n",
        "    for c in s:\n",
        "        if c not in remaining_dict:\n",
        "            remaining_dict[c]=1\n",
        "        else:\n",
        "            remaining_dict[c]+=1\n",
        "    for key,value in remaining_dict.items():\n",
        "        required_dict[key] = value // 2\n",
        "        added_dict[key] = 0\n",
        "    char_list=[]\n",
        "    index = 0\n",
        "    min_index = 0\n",
        "    min_char = '|'\n",
        "    while index < len(s):\n",
        "        char = s[index]\n",
        "        if required_dict[char]>added_dict[char]:\n",
        "            if char < min_char:\n",
        "                min_char = char\n",
        "                min_index = index\n",
        "            if remaining_dict[char]-1<required_dict[char]-added_dict[char]:\n",
        "                while index>min_index:\n",
        "                    index-=1\n",
        "                    char = s[index]\n",
        "                    remaining_dict[char]+=1\n",
        "                added_dict[char]+=1\n",
        "                char_list.append(char)\n",
        "                min_char = '|'\n",
        "        remaining_dict[char]-=1\n",
        "        index+=1\n",
        "    return \"\".join(char_list)\n",
        "\n",
        "if __name__ == '__main__':\n",
        "    fptr = open(os.environ['OUTPUT_PATH'], 'w')\n",
        "\n",
        "    s = raw_input()\n",
        "\n",
        "    result = reverseShuffleMerge(s)\n",
        "\n",
        "    fptr.write(result + '\\n')\n",
        "\n",
        "    fptr.close()\n"
      ]
    }
  ]
}