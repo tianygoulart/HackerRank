{
  "nbformat": 4,
  "nbformat_minor": 0,
  "metadata": {
    "colab": {
      "name": "Valid String.ipynb",
      "provenance": [],
      "authorship_tag": "ABX9TyMZS7ksjBjTlWo5O7qdBmOK",
      "include_colab_link": true
    },
    "kernelspec": {
      "name": "python3",
      "display_name": "Python 3"
    },
    "language_info": {
      "name": "python"
    }
  },
  "cells": [
    {
      "cell_type": "markdown",
      "metadata": {
        "id": "view-in-github",
        "colab_type": "text"
      },
      "source": [
        "<a href=\"https://colab.research.google.com/github/tianygoulart/HackerRank/blob/main/Valid_String.ipynb\" target=\"_parent\"><img src=\"https://colab.research.google.com/assets/colab-badge.svg\" alt=\"Open In Colab\"/></a>"
      ]
    },
    {
      "cell_type": "code",
      "execution_count": null,
      "metadata": {
        "id": "H9AxYvKGI22w"
      },
      "outputs": [],
      "source": [
        "#!/bin/python\n",
        "\n",
        "import math\n",
        "import os\n",
        "import random\n",
        "import re\n",
        "import sys\n",
        "from collections import Counter\n",
        "\n",
        "#\n",
        "# Complete the 'isValid' function below.\n",
        "#\n",
        "# The function is expected to return a STRING.\n",
        "# The function accepts STRING s as parameter.\n",
        "#\n",
        "\n",
        "def isValid(s):\n",
        "    # Write your code here\n",
        "    x=Counter(Counter(s).values())\n",
        "    if len(x)==1:\n",
        "        return \"YES\"\n",
        "    if len(x)>2:\n",
        "        return \"NO\"\n",
        "    if 1 in x.values() and (x[min(x.keys())]==1 or (max(x.keys())-min(x.keys())==1)):\n",
        "        return \"YES\"\n",
        "    else:\n",
        "        return \"NO\"\n",
        "\n",
        "if __name__ == '__main__':\n",
        "    fptr = open(os.environ['OUTPUT_PATH'], 'w')\n",
        "\n",
        "    s = raw_input()\n",
        "\n",
        "    result = isValid(s)\n",
        "\n",
        "    fptr.write(result + '\\n')\n",
        "\n",
        "    fptr.close()\n"
      ]
    }
  ]
}