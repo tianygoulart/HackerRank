{
  "nbformat": 4,
  "nbformat_minor": 0,
  "metadata": {
    "colab": {
      "name": "Mark and toys.ipynb",
      "provenance": [],
      "authorship_tag": "ABX9TyNIwRJWu4j8jDN7ykfHs4BS",
      "include_colab_link": true
    },
    "kernelspec": {
      "name": "python3",
      "display_name": "Python 3"
    },
    "language_info": {
      "name": "python"
    }
  },
  "cells": [
    {
      "cell_type": "markdown",
      "metadata": {
        "id": "view-in-github",
        "colab_type": "text"
      },
      "source": [
        "<a href=\"https://colab.research.google.com/github/tianygoulart/HackerRank/blob/main/Mark_and_toys.ipynb\" target=\"_parent\"><img src=\"https://colab.research.google.com/assets/colab-badge.svg\" alt=\"Open In Colab\"/></a>"
      ]
    },
    {
      "cell_type": "code",
      "execution_count": null,
      "metadata": {
        "id": "t7R1vwXaoYpB"
      },
      "outputs": [],
      "source": [
        "#!/bin/python\n",
        "\n",
        "import math\n",
        "import os\n",
        "import random\n",
        "import re\n",
        "import sys\n",
        "\n",
        "#\n",
        "# Complete the 'maximumToys' function below.\n",
        "#\n",
        "# The function is expected to return an INTEGER.\n",
        "# The function accepts following parameters:\n",
        "#  1. INTEGER_ARRAY prices\n",
        "#  2. INTEGER k\n",
        "#\n",
        "\n",
        "def maximumToys(prices, k):\n",
        "    # Write your code here\n",
        "    soma=0\n",
        "    for i in prices:\n",
        "        if i<=k:\n",
        "            soma+=1\n",
        "            k-=i\n",
        "        else:\n",
        "            break\n",
        "    return soma\n",
        "\n",
        "if __name__ == '__main__':\n",
        "    fptr = open(os.environ['OUTPUT_PATH'], 'w')\n",
        "\n",
        "    first_multiple_input = raw_input().rstrip().split()\n",
        "\n",
        "    n = int(first_multiple_input[0])\n",
        "\n",
        "    k = int(first_multiple_input[1])\n",
        "\n",
        "    prices = sorted(map(int, raw_input().rstrip().split()))\n",
        "\n",
        "    result = maximumToys(prices, k)\n",
        "\n",
        "    fptr.write(str(result) + '\\n')\n",
        "\n",
        "    fptr.close()\n"
      ]
    }
  ]
}