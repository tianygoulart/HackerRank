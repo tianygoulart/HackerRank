{
  "nbformat": 4,
  "nbformat_minor": 0,
  "metadata": {
    "colab": {
      "name": "Minimum Absolute Difference.ipynb",
      "provenance": [],
      "authorship_tag": "ABX9TyPWJ0Os34nkwSm6KolKn/rS",
      "include_colab_link": true
    },
    "kernelspec": {
      "name": "python3",
      "display_name": "Python 3"
    },
    "language_info": {
      "name": "python"
    }
  },
  "cells": [
    {
      "cell_type": "markdown",
      "metadata": {
        "id": "view-in-github",
        "colab_type": "text"
      },
      "source": [
        "<a href=\"https://colab.research.google.com/github/tianygoulart/HackerRank/blob/main/Minimum_Absolute_Difference.ipynb\" target=\"_parent\"><img src=\"https://colab.research.google.com/assets/colab-badge.svg\" alt=\"Open In Colab\"/></a>"
      ]
    },
    {
      "cell_type": "code",
      "execution_count": null,
      "metadata": {
        "id": "2cKHBV2UsTQ2"
      },
      "outputs": [],
      "source": [
        "#!/bin/python\n",
        "\n",
        "import math\n",
        "import os\n",
        "import random\n",
        "import re\n",
        "import sys\n",
        "\n",
        "#\n",
        "# Complete the 'minimumAbsoluteDifference' function below.\n",
        "#\n",
        "# The function is expected to return an INTEGER.\n",
        "# The function accepts INTEGER_ARRAY arr as parameter.\n",
        "#\n",
        "\n",
        "def minimumAbsoluteDifference(arr):\n",
        "    # Write your code here\n",
        "    arr=sorted(arr)\n",
        "    dif=10**20\n",
        "    for i in range(n-1):\n",
        "        if arr[i+1]-arr[i]<dif:\n",
        "            dif=arr[i+1]-arr[i]\n",
        "    return dif\n",
        "\n",
        "if __name__ == '__main__':\n",
        "    fptr = open(os.environ['OUTPUT_PATH'], 'w')\n",
        "\n",
        "    n = int(raw_input().strip())\n",
        "\n",
        "    arr = map(int, raw_input().rstrip().split())\n",
        "\n",
        "    result = minimumAbsoluteDifference(arr)\n",
        "\n",
        "    fptr.write(str(result) + '\\n')\n",
        "\n",
        "    fptr.close()\n"
      ]
    }
  ]
}