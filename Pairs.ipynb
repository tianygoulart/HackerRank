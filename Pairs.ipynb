{
  "nbformat": 4,
  "nbformat_minor": 0,
  "metadata": {
    "colab": {
      "name": "Pairs.ipynb",
      "provenance": [],
      "authorship_tag": "ABX9TyP+Ov+JQOFhAfW1Ve32VNkd",
      "include_colab_link": true
    },
    "kernelspec": {
      "name": "python3",
      "display_name": "Python 3"
    },
    "language_info": {
      "name": "python"
    }
  },
  "cells": [
    {
      "cell_type": "markdown",
      "metadata": {
        "id": "view-in-github",
        "colab_type": "text"
      },
      "source": [
        "<a href=\"https://colab.research.google.com/github/tianygoulart/HackerRank/blob/main/Pairs.ipynb\" target=\"_parent\"><img src=\"https://colab.research.google.com/assets/colab-badge.svg\" alt=\"Open In Colab\"/></a>"
      ]
    },
    {
      "cell_type": "code",
      "execution_count": 3,
      "metadata": {
        "colab": {
          "base_uri": "https://localhost:8080/"
        },
        "id": "tDowkEoqjjvt",
        "outputId": "3efe543c-eb1f-4a81-8254-2f6bcce01419"
      },
      "outputs": [
        {
          "output_type": "stream",
          "name": "stdout",
          "text": [
            "3\n"
          ]
        }
      ],
      "source": [
        "k=2\n",
        "arr=[1,5,3,4,2]\n",
        "count=0\n",
        "for i in range(0, len(arr)):\n",
        "  for j in range(0, len(arr)):\n",
        "    if arr[i]-arr[j]==k:\n",
        "      count+=1\n",
        "print(count)\n"
      ]
    },
    {
      "cell_type": "code",
      "source": [
        "#!/bin/python\n",
        "\n",
        "import math\n",
        "import os\n",
        "import random\n",
        "import re\n",
        "import sys\n",
        "\n",
        "#\n",
        "# Complete the 'pairs' function below.\n",
        "#\n",
        "# The function is expected to return an INTEGER.\n",
        "# The function accepts following parameters:\n",
        "#  1. INTEGER k\n",
        "#  2. INTEGER_ARRAY arr\n",
        "#\n",
        "\n",
        "def pairs(k, arr):\n",
        "    # Write your code here\n",
        "    arr.sort()\n",
        "    esquerda=0\n",
        "    direita=1\n",
        "    count=0\n",
        "    while direita<len(arr):\n",
        "        compara=arr[direita]-arr[esquerda]\n",
        "        if compara==k:\n",
        "            count+=1\n",
        "            esquerda+=1\n",
        "            direita+=1\n",
        "        elif compara<k:\n",
        "            direita+=1\n",
        "        else:\n",
        "            esquerda+=1\n",
        "            if esquerda==direita:\n",
        "                 direita+=1\n",
        "    return count\n",
        "\n",
        "if __name__ == '__main__':\n",
        "    fptr = open(os.environ['OUTPUT_PATH'], 'w')\n",
        "\n",
        "    first_multiple_input = raw_input().rstrip().split()\n",
        "\n",
        "    n = int(first_multiple_input[0])\n",
        "\n",
        "    k = int(first_multiple_input[1])\n",
        "\n",
        "    arr = list(map(int, raw_input().rstrip().split()))\n",
        "\n",
        "    result = pairs(k, arr)\n",
        "\n",
        "    fptr.write(str(result) + '\\n')\n",
        "\n",
        "    fptr.close()\n",
        "\n",
        "\n"
      ],
      "metadata": {
        "id": "DpBtNrfcmxDV"
      },
      "execution_count": null,
      "outputs": []
    }
  ]
}