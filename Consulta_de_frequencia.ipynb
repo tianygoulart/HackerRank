{
  "nbformat": 4,
  "nbformat_minor": 0,
  "metadata": {
    "colab": {
      "name": "Consulta de frequencia.ipynb",
      "provenance": [],
      "authorship_tag": "ABX9TyNkkJkIorFPSeemITu9GqLV",
      "include_colab_link": true
    },
    "kernelspec": {
      "name": "python3",
      "display_name": "Python 3"
    },
    "language_info": {
      "name": "python"
    }
  },
  "cells": [
    {
      "cell_type": "markdown",
      "metadata": {
        "id": "view-in-github",
        "colab_type": "text"
      },
      "source": [
        "<a href=\"https://colab.research.google.com/github/tianygoulart/HackerRank/blob/main/Consulta_de_frequencia.ipynb\" target=\"_parent\"><img src=\"https://colab.research.google.com/assets/colab-badge.svg\" alt=\"Open In Colab\"/></a>"
      ]
    },
    {
      "cell_type": "code",
      "execution_count": null,
      "metadata": {
        "id": "sZS21LTpJ8G_"
      },
      "outputs": [],
      "source": [
        "import math\n",
        "import os\n",
        "import random\n",
        "import re\n",
        "import sys\n",
        "from collections import Counter\n",
        "# Complete the freqQuery function below.\n",
        "def freqQuery(queries):\n",
        "    a=Counter()\n",
        "    b=Counter()\n",
        "    for x,y in queries:\n",
        "        v=a[y]\n",
        "        if x==1:\n",
        "            b[v]=max(b[v]-1,0)\n",
        "            b[v+1]+=1\n",
        "            a[y]=v+1\n",
        "        elif x==3:\n",
        "            yield 1 if b[y] else 0\n",
        "        elif v:\n",
        "            b[v]=max(b[v]-1,0)\n",
        "            b[v-1]+=1\n",
        "            a[y]=v-1\n",
        "\n",
        "if __name__ == '__main__':\n",
        "    fptr = open(os.environ['OUTPUT_PATH'], 'w')\n",
        "\n",
        "    q = int(raw_input().strip())\n",
        "\n",
        "    queries = []\n",
        "\n",
        "    for _ in xrange(q):\n",
        "        queries.append(map(int, raw_input().rstrip().split()))\n",
        "\n",
        "    ans = freqQuery(queries)\n",
        "\n",
        "    fptr.write('\\n'.join(map(str, ans)))\n",
        "    fptr.write('\\n')\n",
        "\n",
        "    fptr.close()\n"
      ]
    }
  ]
}