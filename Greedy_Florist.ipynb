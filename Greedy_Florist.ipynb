{
  "nbformat": 4,
  "nbformat_minor": 0,
  "metadata": {
    "colab": {
      "name": "Greedy Florist.ipynb",
      "provenance": [],
      "authorship_tag": "ABX9TyOY3tBJeafwcqnp2Td8XDQH",
      "include_colab_link": true
    },
    "kernelspec": {
      "name": "python3",
      "display_name": "Python 3"
    },
    "language_info": {
      "name": "python"
    }
  },
  "cells": [
    {
      "cell_type": "markdown",
      "metadata": {
        "id": "view-in-github",
        "colab_type": "text"
      },
      "source": [
        "<a href=\"https://colab.research.google.com/github/tianygoulart/HackerRank/blob/main/Greedy_Florist.ipynb\" target=\"_parent\"><img src=\"https://colab.research.google.com/assets/colab-badge.svg\" alt=\"Open In Colab\"/></a>"
      ]
    },
    {
      "cell_type": "code",
      "execution_count": null,
      "metadata": {
        "id": "5iNlWM-49pmT"
      },
      "outputs": [],
      "source": [
        "import math\n",
        "import os\n",
        "import random\n",
        "import re\n",
        "import sys\n",
        "\n",
        "# Complete the getMinimumCost function below.\n",
        "def getMinimumCost(k, c):\n",
        "    res=0\n",
        "    count=0\n",
        "    c=sorted(c, key=lambda x: -x)\n",
        "    for i in c:\n",
        "        res+=i*(1+count//k)\n",
        "        count+=1\n",
        "    return res\n",
        "        \n",
        "if __name__ == '__main__':\n",
        "    fptr = open(os.environ['OUTPUT_PATH'], 'w')\n",
        "\n",
        "    nk = raw_input().split()\n",
        "\n",
        "    n = int(nk[0])\n",
        "\n",
        "    k = int(nk[1])\n",
        "\n",
        "    c = map(int, raw_input().rstrip().split())\n",
        "\n",
        "    minimumCost = getMinimumCost(k, c)\n",
        "\n",
        "    fptr.write(str(minimumCost) + '\\n')\n",
        "\n",
        "    fptr.close()"
      ]
    }
  ]
}