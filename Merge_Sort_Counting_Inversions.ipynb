{
  "nbformat": 4,
  "nbformat_minor": 0,
  "metadata": {
    "colab": {
      "name": "Merge Sort: Counting Inversions.ipynb",
      "provenance": [],
      "authorship_tag": "ABX9TyPUr9+LPY4TehI/nTY6DjlE",
      "include_colab_link": true
    },
    "kernelspec": {
      "name": "python3",
      "display_name": "Python 3"
    },
    "language_info": {
      "name": "python"
    }
  },
  "cells": [
    {
      "cell_type": "markdown",
      "metadata": {
        "id": "view-in-github",
        "colab_type": "text"
      },
      "source": [
        "<a href=\"https://colab.research.google.com/github/tianygoulart/HackerRank/blob/main/Merge_Sort_Counting_Inversions.ipynb\" target=\"_parent\"><img src=\"https://colab.research.google.com/assets/colab-badge.svg\" alt=\"Open In Colab\"/></a>"
      ]
    },
    {
      "cell_type": "code",
      "execution_count": null,
      "metadata": {
        "id": "E98tvSTjVVyL"
      },
      "outputs": [],
      "source": [
        "#!/bin/python\n",
        "\n",
        "import math\n",
        "import os\n",
        "import random\n",
        "import re\n",
        "import sys\n",
        "\n",
        "#\n",
        "# Complete the 'countInversions' function below.\n",
        "#\n",
        "# The function is expected to return a LONG_INTEGER.\n",
        "# The function accepts INTEGER_ARRAY arr as parameter.\n",
        "#\n",
        "\n",
        "def countInversions(arr):\n",
        "    # Write your code here\n",
        "     x = mergeSort(arr, 0, len(arr)-1)\n",
        "     return x\n",
        "\n",
        "def merge(arr, l, m, r):\n",
        "    if(arr[m] <= arr[m+1]):\n",
        "        return 0\n",
        "    \n",
        "    cnt = 0\n",
        "    L = arr[l:m+1]\n",
        "    R = arr[m+1:r+1]  \n",
        "   \n",
        "    i = 0     \n",
        "    j = 0     \n",
        "    k = l     \n",
        "    \n",
        "    len_l  = m+1-l\n",
        "    len_r = r-m\n",
        "\n",
        "    while i < len_l and j < len_r:\n",
        "        if L[i] <= R[j]:\n",
        "            arr[k] = L[i]\n",
        "            i += 1\n",
        "        else:\n",
        "            arr[k] = R[j]\n",
        "            j += 1\n",
        "            cnt += len_l - i\n",
        "        k += 1\n",
        " \n",
        "    arr[k: k + len_l - i] = L[i:]\n",
        "\n",
        "    return cnt\n",
        "\n",
        "def mergeSort(arr,l, r):\n",
        "    x = 0\n",
        "    if l < r:\n",
        "        m = (l+r)//2             \n",
        "        x = mergeSort(arr, l, m)\n",
        "        x += mergeSort(arr, m+1, r)\n",
        "        x += merge(arr, l, m, r)    \n",
        "    return x\n",
        "if __name__ == '__main__':\n",
        "    fptr = open(os.environ['OUTPUT_PATH'], 'w')\n",
        "\n",
        "    t = int(raw_input().strip())\n",
        "\n",
        "    for t_itr in xrange(t):\n",
        "        n = int(raw_input().strip())\n",
        "\n",
        "        arr = list(map(int, raw_input().rstrip().split()))\n",
        "\n",
        "        result = countInversions(arr)\n",
        "\n",
        "        fptr.write(str(result) + '\\n')\n",
        "\n",
        "    fptr.close()"
      ]
    }
  ]
}