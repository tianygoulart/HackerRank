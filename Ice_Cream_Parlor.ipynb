{
  "nbformat": 4,
  "nbformat_minor": 0,
  "metadata": {
    "colab": {
      "name": "Ice Cream Parlor.ipynb",
      "provenance": [],
      "authorship_tag": "ABX9TyMOwi4MU3xsGg8+yYPnFq+o",
      "include_colab_link": true
    },
    "kernelspec": {
      "name": "python3",
      "display_name": "Python 3"
    },
    "language_info": {
      "name": "python"
    }
  },
  "cells": [
    {
      "cell_type": "markdown",
      "metadata": {
        "id": "view-in-github",
        "colab_type": "text"
      },
      "source": [
        "<a href=\"https://colab.research.google.com/github/tianygoulart/HackerRank/blob/main/Ice_Cream_Parlor.ipynb\" target=\"_parent\"><img src=\"https://colab.research.google.com/assets/colab-badge.svg\" alt=\"Open In Colab\"/></a>"
      ]
    },
    {
      "cell_type": "code",
      "execution_count": null,
      "metadata": {
        "id": "BcH3Kb5BpbSb"
      },
      "outputs": [],
      "source": [
        "import math\n",
        "import os\n",
        "import random\n",
        "import re\n",
        "import sys\n",
        "\n",
        "#\n",
        "# Complete the 'whatFlavors' function below.\n",
        "#\n",
        "# The function accepts following parameters:\n",
        "#  1. INTEGER_ARRAY cost\n",
        "#  2. INTEGER money\n",
        "#\n",
        "from collections import Counter\n",
        "\n",
        "def whatFlavors(cost, money):\n",
        "    # Write your code here   \n",
        "    x=Counter(cost)       \n",
        "    for i in cost:\n",
        "        compara=money-i\n",
        "        if i!=compara:\n",
        "            if x[compara]>0:\n",
        "                j=cost.index(compara)\n",
        "                print cost.index(i)+1,j+1  \n",
        "                return              \n",
        "            \n",
        "        else:\n",
        "            if x[compara]>1:\n",
        "                j=cost[cost.index(compara)+1:].index(compara)\n",
        "                print cost.index(i)+1,j+2+cost.index(i)\n",
        "                return              \n",
        "         \n",
        "    \n",
        "if __name__ == '__main__':\n",
        "    t = int(raw_input().strip())\n",
        "\n",
        "    for t_itr in xrange(t):\n",
        "        money = int(raw_input().strip())\n",
        "\n",
        "        n = int(raw_input().strip())\n",
        "\n",
        "        cost =(map(int, raw_input().rstrip().split()))\n",
        "\n",
        "        whatFlavors(cost, money)\n"
      ]
    }
  ]
}