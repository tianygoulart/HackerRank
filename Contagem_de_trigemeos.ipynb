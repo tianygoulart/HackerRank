{
  "nbformat": 4,
  "nbformat_minor": 0,
  "metadata": {
    "colab": {
      "name": "Contagem de trigemeos.ipynb",
      "provenance": [],
      "authorship_tag": "ABX9TyMAQaKiNT9EwPs388eVFzz3",
      "include_colab_link": true
    },
    "kernelspec": {
      "name": "python3",
      "display_name": "Python 3"
    },
    "language_info": {
      "name": "python"
    }
  },
  "cells": [
    {
      "cell_type": "markdown",
      "metadata": {
        "id": "view-in-github",
        "colab_type": "text"
      },
      "source": [
        "<a href=\"https://colab.research.google.com/github/tianygoulart/HackerRank/blob/main/Contagem_de_trigemeos.ipynb\" target=\"_parent\"><img src=\"https://colab.research.google.com/assets/colab-badge.svg\" alt=\"Open In Colab\"/></a>"
      ]
    },
    {
      "cell_type": "code",
      "execution_count": null,
      "metadata": {
        "id": "2YgTBxOqOkzQ"
      },
      "outputs": [],
      "source": [
        "#!/bin/python\n",
        "\n",
        "import math\n",
        "import os\n",
        "import random\n",
        "import re\n",
        "import sys\n",
        "from collections import Counter\n",
        "# Complete the countTriplets function below.\n",
        "def countTriplets(arr, r):\n",
        "    a=Counter(arr)\n",
        "    b=Counter()\n",
        "    soma=0\n",
        "    for i in arr:\n",
        "        j=i//r\n",
        "        k=i*r\n",
        "        a[i]-=1\n",
        "        if b[j] and a[k] and i%r==0:\n",
        "            soma+=b[j]*a[k]\n",
        "        b[i]+=1\n",
        "    return soma\n",
        "\n",
        "if __name__ == '__main__':\n",
        "    fptr = open(os.environ['OUTPUT_PATH'], 'w')\n",
        "\n",
        "    nr = raw_input().rstrip().split()\n",
        "\n",
        "    n = int(nr[0])\n",
        "\n",
        "    r = int(nr[1])\n",
        "\n",
        "    arr = map(long, raw_input().rstrip().split())\n",
        "\n",
        "    ans = countTriplets(arr, r)\n",
        "\n",
        "    fptr.write(str(ans) + '\\n')\n",
        "\n",
        "    fptr.close()\n"
      ]
    }
  ]
}