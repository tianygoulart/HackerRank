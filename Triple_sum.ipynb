{
  "nbformat": 4,
  "nbformat_minor": 0,
  "metadata": {
    "colab": {
      "name": "Triple sum.ipynb",
      "provenance": [],
      "authorship_tag": "ABX9TyP3C0C00RpDMNI55UQndqBs",
      "include_colab_link": true
    },
    "kernelspec": {
      "name": "python3",
      "display_name": "Python 3"
    },
    "language_info": {
      "name": "python"
    }
  },
  "cells": [
    {
      "cell_type": "markdown",
      "metadata": {
        "id": "view-in-github",
        "colab_type": "text"
      },
      "source": [
        "<a href=\"https://colab.research.google.com/github/tianygoulart/HackerRank/blob/main/Triple_sum.ipynb\" target=\"_parent\"><img src=\"https://colab.research.google.com/assets/colab-badge.svg\" alt=\"Open In Colab\"/></a>"
      ]
    },
    {
      "cell_type": "code",
      "execution_count": null,
      "metadata": {
        "id": "b0NzIHSgpbDn"
      },
      "outputs": [],
      "source": [
        "#!/bin/python\n",
        "\n",
        "import math\n",
        "import os\n",
        "import random\n",
        "import re\n",
        "import sys\n",
        "\n",
        "# Complete the triplets function below.\n",
        "def triplets(a, b, c):\n",
        "    a=list(sorted(set(a)))\n",
        "    b=list(sorted(set(b)))\n",
        "    c=list(sorted(set(c)))\n",
        "    counta=0\n",
        "    countb=0\n",
        "    countc=0\n",
        "    count=0\n",
        "    while countb<len(b):\n",
        "        while counta<len(a) and a[counta]<=b[countb]:\n",
        "            counta+=1\n",
        "        while countc<len(c) and c[countc]<=b[countb]:\n",
        "            countc+=1\n",
        "        count+=counta*countc\n",
        "        countb+=1\n",
        "    return count\n",
        "\n",
        "if __name__ == '__main__':\n",
        "    fptr = open(os.environ['OUTPUT_PATH'], 'w')\n",
        "\n",
        "    lenaLenbLenc = raw_input().split()\n",
        "\n",
        "    lena = int(lenaLenbLenc[0])\n",
        "\n",
        "    lenb = int(lenaLenbLenc[1])\n",
        "\n",
        "    lenc = int(lenaLenbLenc[2])\n",
        "\n",
        "    arra = map(int, raw_input().rstrip().split())\n",
        "\n",
        "    arrb = map(int, raw_input().rstrip().split())\n",
        "\n",
        "    arrc = map(int, raw_input().rstrip().split())\n",
        "\n",
        "    ans = triplets(arra, arrb, arrc)\n",
        "\n",
        "    fptr.write(str(ans) + '\\n')\n",
        "\n",
        "    fptr.close()\n"
      ]
    }
  ]
}